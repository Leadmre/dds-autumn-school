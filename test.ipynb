{
 "cells": [
  {
   "cell_type": "markdown",
   "id": "5900d5ea-568b-4a8e-94d7-daf62d6f1b78",
   "metadata": {},
   "source": [
    "Testing notebook"
   ]
  },
  {
   "cell_type": "code",
   "execution_count": 7,
   "id": "29177470-627d-4b20-b788-2fb5451c0bd3",
   "metadata": {},
   "outputs": [],
   "source": [
    "from numbers import Number\n",
    "\n",
    "def add(a: Number, b: Number) -> Number:\n",
    "    return a - b"
   ]
  },
  {
   "cell_type": "code",
   "execution_count": null,
   "id": "fa84ef4d-6b91-4a29-ae0c-fd33bd1d5231",
   "metadata": {},
   "outputs": [],
   "source": []
  }
 ],
 "metadata": {
  "kernelspec": {
   "display_name": "Python 3 (ipykernel)",
   "language": "python",
   "name": "python3"
  },
  "language_info": {
   "codemirror_mode": {
    "name": "ipython",
    "version": 3
   },
   "file_extension": ".py",
   "mimetype": "text/x-python",
   "name": "python",
   "nbconvert_exporter": "python",
   "pygments_lexer": "ipython3",
   "version": "3.11.10"
  }
 },
 "nbformat": 4,
 "nbformat_minor": 5
}
